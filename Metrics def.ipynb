{
 "cells": [
  {
   "cell_type": "markdown",
   "id": "a2b99416",
   "metadata": {},
   "source": [
    "# Root mean Sqaured Error - RMSE"
   ]
  },
  {
   "cell_type": "code",
   "execution_count": 1,
   "id": "6c66e539",
   "metadata": {},
   "outputs": [],
   "source": [
    "import numpy as np\n",
    "from math import sqrt\n",
    "import pandas as pd"
   ]
  },
  {
   "cell_type": "code",
   "execution_count": 2,
   "id": "7a3b8b57",
   "metadata": {},
   "outputs": [],
   "source": [
    "def rmse(actual,predicted):\n",
    "    error = 0\n",
    "    for av,pv in zip(actual,predicted):\n",
    "        error = error + (av-pv)**2\n",
    "    return sqrt(error/len(actual))"
   ]
  },
  {
   "cell_type": "code",
   "execution_count": 3,
   "id": "fce72f28",
   "metadata": {},
   "outputs": [],
   "source": [
    "actual1 = list(np.random.randint(80,100,25))\n",
    "predicted1 = list(np.random.randint(80,100,25))"
   ]
  },
  {
   "cell_type": "code",
   "execution_count": 4,
   "id": "5754c353",
   "metadata": {},
   "outputs": [
    {
     "data": {
      "text/plain": [
       "8.012490249604053"
      ]
     },
     "execution_count": 4,
     "metadata": {},
     "output_type": "execute_result"
    }
   ],
   "source": [
    "rmse(actual1,predicted1)"
   ]
  },
  {
   "cell_type": "code",
   "execution_count": 6,
   "id": "e02168f4",
   "metadata": {},
   "outputs": [],
   "source": [
    "a = [1,0,0,0,1,1,0,1,1,0,0]\n",
    "b = [1,0,0,1,0,1,1,0,1,0,0]"
   ]
  },
  {
   "cell_type": "code",
   "execution_count": 7,
   "id": "14bc5cf6",
   "metadata": {},
   "outputs": [
    {
     "name": "stdout",
     "output_type": "stream",
     "text": [
      "              precision    recall  f1-score   support\n",
      "\n",
      "           0       0.67      0.67      0.67         6\n",
      "           1       0.60      0.60      0.60         5\n",
      "\n",
      "    accuracy                           0.64        11\n",
      "   macro avg       0.63      0.63      0.63        11\n",
      "weighted avg       0.64      0.64      0.64        11\n",
      "\n"
     ]
    }
   ],
   "source": [
    "from sklearn.metrics import classification_report\n",
    "print(classification_report(a,b))"
   ]
  },
  {
   "cell_type": "code",
   "execution_count": null,
   "id": "11413626",
   "metadata": {},
   "outputs": [],
   "source": []
  }
 ],
 "metadata": {
  "kernelspec": {
   "display_name": "Python 3 (ipykernel)",
   "language": "python",
   "name": "python3"
  },
  "language_info": {
   "codemirror_mode": {
    "name": "ipython",
    "version": 3
   },
   "file_extension": ".py",
   "mimetype": "text/x-python",
   "name": "python",
   "nbconvert_exporter": "python",
   "pygments_lexer": "ipython3",
   "version": "3.9.7"
  }
 },
 "nbformat": 4,
 "nbformat_minor": 5
}
